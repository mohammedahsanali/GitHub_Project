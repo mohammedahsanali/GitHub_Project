{
 "cells": [
  {
   "cell_type": "code",
   "execution_count": 5,
   "id": "bf02c3bc",
   "metadata": {},
   "outputs": [
    {
     "name": "stdout",
     "output_type": "stream",
     "text": [
      "Enter Your First Value : 7\n",
      "Enter Your Second Value : 8\n",
      "Enter Your Operator : -\n",
      "-1\n"
     ]
    }
   ],
   "source": [
    "a = int(input('Enter Your First Value : '))\n",
    "b = int(input('Enter Your Second Value : '))\n",
    "c = input('Enter Your Operator : ')\n",
    "\n",
    "if c=='+':\n",
    "    print(a+b)\n",
    "elif c=='-':\n",
    "    print(a-b)\n",
    "elif c=='*':\n",
    "    print(a*b)\n",
    "elif c=='/':\n",
    "    print(a/b)\n",
    "else:\n",
    "    print('Invalid Operator')"
   ]
  },
  {
   "cell_type": "code",
   "execution_count": null,
   "id": "8d9ed2c0",
   "metadata": {},
   "outputs": [],
   "source": []
  },
  {
   "cell_type": "code",
   "execution_count": null,
   "id": "43511ebc",
   "metadata": {},
   "outputs": [],
   "source": []
  }
 ],
 "metadata": {
  "kernelspec": {
   "display_name": "Python 3 (ipykernel)",
   "language": "python",
   "name": "python3"
  },
  "language_info": {
   "codemirror_mode": {
    "name": "ipython",
    "version": 3
   },
   "file_extension": ".py",
   "mimetype": "text/x-python",
   "name": "python",
   "nbconvert_exporter": "python",
   "pygments_lexer": "ipython3",
   "version": "3.11.2"
  }
 },
 "nbformat": 4,
 "nbformat_minor": 5
}
